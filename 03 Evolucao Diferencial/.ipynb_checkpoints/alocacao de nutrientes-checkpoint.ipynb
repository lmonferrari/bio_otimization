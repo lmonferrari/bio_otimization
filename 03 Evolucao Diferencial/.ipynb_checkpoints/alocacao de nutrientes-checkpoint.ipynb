{
 "cells": [
  {
   "cell_type": "code",
   "execution_count": 1,
   "id": "f4c45108",
   "metadata": {},
   "outputs": [],
   "source": [
    "import numpy as np\n",
    "import random"
   ]
  },
  {
   "cell_type": "code",
   "execution_count": 2,
   "id": "80ecb34a",
   "metadata": {},
   "outputs": [],
   "source": [
    "F = 0.8\n",
    "CR = 0.3\n",
    "tamanho_vetor = 5"
   ]
  },
  {
   "cell_type": "markdown",
   "id": "b7823bd0",
   "metadata": {},
   "source": [
    "#### Criando a função que gera o prato de comida"
   ]
  },
  {
   "cell_type": "markdown",
   "id": "6ee34455",
   "metadata": {},
   "source": [
    "- primeiro elemento - peito de frango\n",
    "- segundo elemento  - batata \n",
    "- terceiro elemento - arroz integral\n",
    "- quarto elemento   - ovo \n",
    "- quinte elemento   - feijão"
   ]
  },
  {
   "cell_type": "code",
   "execution_count": 3,
   "id": "78a51a8f",
   "metadata": {},
   "outputs": [],
   "source": [
    "def gera_prato(tamanho_vetor):\n",
    "    return list(np.random.uniform(0, 199, tamanho_vetor))"
   ]
  },
  {
   "cell_type": "code",
   "execution_count": 4,
   "id": "0917be0c",
   "metadata": {},
   "outputs": [
    {
     "data": {
      "text/plain": [
       "[106.93182197038469,\n",
       " 153.80514546122438,\n",
       " 164.64528102779678,\n",
       " 143.6272367573537,\n",
       " 10.018988939550482]"
      ]
     },
     "execution_count": 4,
     "metadata": {},
     "output_type": "execute_result"
    }
   ],
   "source": [
    "gera_prato(5)"
   ]
  },
  {
   "cell_type": "markdown",
   "id": "73f9df58",
   "metadata": {},
   "source": [
    "#### Criando a população"
   ]
  },
  {
   "cell_type": "markdown",
   "id": "f1f2ba09",
   "metadata": {},
   "source": [
    "População de soluções"
   ]
  },
  {
   "cell_type": "code",
   "execution_count": 5,
   "id": "a23ce184",
   "metadata": {},
   "outputs": [],
   "source": [
    "def populacao(tamanho_populacao):\n",
    "    return [gera_prato(tamanho_vetor) for _ in range(tamanho_populacao)]"
   ]
  },
  {
   "cell_type": "code",
   "execution_count": 6,
   "id": "e2bc81f5",
   "metadata": {
    "scrolled": true
   },
   "outputs": [
    {
     "data": {
      "text/plain": [
       "[[196.25675360763213,\n",
       "  143.87076680652493,\n",
       "  84.99696577569826,\n",
       "  37.97725317513176,\n",
       "  132.64939877208982],\n",
       " [116.71725164884162,\n",
       "  78.27169023201682,\n",
       "  68.34863557308226,\n",
       "  189.95960503853857,\n",
       "  169.5434060940548],\n",
       " [177.1834877741293,\n",
       "  194.93000904505385,\n",
       "  160.57814087497164,\n",
       "  157.41795719961252,\n",
       "  142.3217957391275],\n",
       " [78.98374743189454,\n",
       "  84.15713684917544,\n",
       "  20.965883939306398,\n",
       "  57.677462666591886,\n",
       "  154.04806625359754],\n",
       " [32.705725160531365,\n",
       "  187.30097928238206,\n",
       "  50.23772607772486,\n",
       "  119.92807386005246,\n",
       "  36.38557138473367],\n",
       " [49.91146072821878,\n",
       "  166.43572616333074,\n",
       "  151.54287361151114,\n",
       "  64.55340856797439,\n",
       "  113.25255592054118],\n",
       " [84.27333696025445,\n",
       "  193.2489143615678,\n",
       "  179.97146557060478,\n",
       "  26.03993857230139,\n",
       "  94.57614945207418],\n",
       " [90.4465417475442,\n",
       "  44.45423266457177,\n",
       "  81.6107027054009,\n",
       "  94.0002039976023,\n",
       "  144.77914238507122],\n",
       " [90.02490482737437,\n",
       "  100.86315949577907,\n",
       "  8.991346606192078,\n",
       "  78.11457117336327,\n",
       "  197.31438640145424],\n",
       " [70.58668343843735,\n",
       "  152.0707590047831,\n",
       "  162.57511735558424,\n",
       "  90.77088146656955,\n",
       "  139.39066638531017]]"
      ]
     },
     "execution_count": 6,
     "metadata": {},
     "output_type": "execute_result"
    }
   ],
   "source": [
    "populacao(10)"
   ]
  },
  {
   "cell_type": "markdown",
   "id": "a7d852e2",
   "metadata": {},
   "source": [
    "#### Função objetiva"
   ]
  },
  {
   "cell_type": "code",
   "execution_count": 7,
   "id": "6977758b",
   "metadata": {},
   "outputs": [],
   "source": [
    "def divergencia(prato, mostrar=False):\n",
    "    carboidrato = prato[0]*0.05 + prato[1]*0.24 + prato[2]*0.26 + prato[3]*0.015 + prato[4]*0.29\n",
    "    proteina = prato[0]*0.23 + prato[1]*0.02 + prato[2]*0.026 + prato[3]*0.13 + prato[4]*0.095 \n",
    "    lipideo = prato[0]*0.05 + prato[1]*0.00 + prato[2]*0.01 + prato[3]*0.089 + prato[4]*0.014\n",
    "    \n",
    "    total = carboidrato + proteina + lipideo\n",
    "    soma_gr_prato = sum(prato)\n",
    "    \n",
    "    porc_carb = (carboidrato/total)*100\n",
    "    porc_prot = (proteina/total)*100\n",
    "    porc_lipi = (lipideo/total)*100\n",
    "    \n",
    "    diff_carb = abs(porc_carb-55)\n",
    "    diff_prot = abs(porc_prot-30)\n",
    "    diff_lipi = abs(porc_lipi-15)\n",
    "    \n",
    "    if mostrar:\n",
    "        print(f'Carboidratos: {porc_carb}')\n",
    "        print(f'Proteinas: {porc_prot}')\n",
    "        print(f'Lipideos: {porc_lipi}')\n",
    "        print(f'Total gramas: {soma_gr_prato}')\n",
    "    \n",
    "    diff_total = diff_carb + diff_prot + diff_lipi\n",
    "    \n",
    "    return diff_total"
   ]
  },
  {
   "cell_type": "code",
   "execution_count": 8,
   "id": "d3945f0e",
   "metadata": {},
   "outputs": [
    {
     "name": "stdout",
     "output_type": "stream",
     "text": [
      "[109.67517407697883, 168.8336605903194, 100.73414940772838, 58.35365371543268, 70.8483602884005]\n",
      "Carboidratos: 61.65841568377968\n",
      "Proteinas: 29.992481663032677\n",
      "Lipideos: 8.349102653187648\n",
      "Total gramas: 508.4449980788598\n",
      "13.316831367559354 \n",
      "\n",
      "[75.5810702672326, 193.99519066377013, 166.12224310345567, 166.40743669845796, 147.80039193911622]\n",
      "Carboidratos: 62.431525279711494\n",
      "Proteinas: 27.535523392274257\n",
      "Lipideos: 10.032951328014246\n",
      "Total gramas: 749.9063326720326\n",
      "14.863050559422991 \n",
      "\n",
      "[132.8418861079445, 175.41612473774825, 51.185148210137704, 115.87129477629338, 165.51653160126702]\n",
      "Carboidratos: 56.52943113760806\n",
      "Proteinas: 33.46624896002858\n",
      "Lipideos: 10.004319902363362\n",
      "Total gramas: 640.8309854333909\n",
      "9.991360195273275 \n",
      "\n",
      "[190.3965388868943, 31.52557172249684, 9.000225583890044, 97.05580439650046, 155.66650469469263]\n",
      "Carboidratos: 41.65267840905199\n",
      "Proteinas: 45.46064743274022\n",
      "Lipideos: 12.886674158207793\n",
      "Total gramas: 483.64464528447434\n",
      "30.921294865480437 \n",
      "\n",
      "[195.1390054804453, 134.4496585763837, 129.55299667580869, 131.050920683992, 138.60842926217057]\n",
      "Carboidratos: 52.69828335593877\n",
      "Proteinas: 36.27815355740292\n",
      "Lipideos: 11.02356308665831\n",
      "Total gramas: 728.8010106788003\n",
      "12.556307114805843 \n",
      "\n"
     ]
    }
   ],
   "source": [
    "for i in range(5):\n",
    "    x = gera_prato(5)\n",
    "    print(x)\n",
    "    print(divergencia(x,True), '\\n')"
   ]
  },
  {
   "cell_type": "markdown",
   "id": "fe9797d6",
   "metadata": {},
   "source": [
    "#### Seleciona 3 vetores diferentes"
   ]
  },
  {
   "cell_type": "code",
   "execution_count": 9,
   "id": "29d3c006",
   "metadata": {},
   "outputs": [],
   "source": [
    "def seleciona3(parental, populacao):\n",
    "    \n",
    "    tres_vetores = []\n",
    "    p2 = [v for v in populacao if v != parental]\n",
    "    \n",
    "    for i in range(3):\n",
    "        aleatorio = random.choice(p2)\n",
    "        tres_vetores.append(aleatorio)\n",
    "        p2.remove(aleatorio)\n",
    "        \n",
    "    return tres_vetores"
   ]
  },
  {
   "cell_type": "code",
   "execution_count": 10,
   "id": "a2b9acc5",
   "metadata": {},
   "outputs": [
    {
     "name": "stdout",
     "output_type": "stream",
     "text": [
      "[[1, 2, 3], [3, 4, 4], [3, 5, 6], [6, 5, 4], [3, 8, 7]]\n",
      "[1, 2, 3]\n",
      "[[3, 4, 4], [3, 8, 7], [3, 5, 6]]\n"
     ]
    }
   ],
   "source": [
    "pop = [[1,2,3], [3,4,4], [3,5,6], [6,5,4], [3,8,7]]\n",
    "print(pop)\n",
    "print(pop[0])\n",
    "print(seleciona3(pop[0], pop))"
   ]
  }
 ],
 "metadata": {
  "kernelspec": {
   "display_name": "Python 3 (ipykernel)",
   "language": "python",
   "name": "python3"
  },
  "language_info": {
   "codemirror_mode": {
    "name": "ipython",
    "version": 3
   },
   "file_extension": ".py",
   "mimetype": "text/x-python",
   "name": "python",
   "nbconvert_exporter": "python",
   "pygments_lexer": "ipython3",
   "version": "3.9.7"
  },
  "varInspector": {
   "cols": {
    "lenName": 16,
    "lenType": 16,
    "lenVar": "60"
   },
   "kernels_config": {
    "python": {
     "delete_cmd_postfix": "",
     "delete_cmd_prefix": "del ",
     "library": "var_list.py",
     "varRefreshCmd": "print(var_dic_list())"
    },
    "r": {
     "delete_cmd_postfix": ") ",
     "delete_cmd_prefix": "rm(",
     "library": "var_list.r",
     "varRefreshCmd": "cat(var_dic_list()) "
    }
   },
   "types_to_exclude": [
    "module",
    "function",
    "builtin_function_or_method",
    "instance",
    "_Feature"
   ],
   "window_display": false
  }
 },
 "nbformat": 4,
 "nbformat_minor": 5
}
